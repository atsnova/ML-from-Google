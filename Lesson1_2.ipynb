{
 "cells": [
  {
   "cell_type": "code",
   "execution_count": 1,
   "metadata": {},
   "outputs": [],
   "source": [
    "from sklearn import tree"
   ]
  },
  {
   "cell_type": "code",
   "execution_count": 4,
   "metadata": {},
   "outputs": [],
   "source": [
    "# define some features for apple (1) and oranges (0)\n",
    "feature = [[140,1],[130,1],[150,0],[170,0]]\n",
    "label = [1,1,0,0]"
   ]
  },
  {
   "cell_type": "code",
   "execution_count": 6,
   "metadata": {},
   "outputs": [],
   "source": [
    "clf = tree.DecisionTreeClassifier()\n",
    "clf = clf.fit(X=feature, y=label)\n",
    "\n",
    "print(clf.predict([[300,0]]))"
   ]
  },
  {
   "cell_type": "code",
   "execution_count": 2,
   "metadata": {},
   "outputs": [],
   "source": [
    "# get the iris data\n",
    "\n",
    "from sklearn.datasets import load_iris\n",
    "\n",
    "iris = load_iris()"
   ]
  },
  {
   "cell_type": "code",
   "execution_count": 4,
   "metadata": {},
   "outputs": [
    {
     "data": {
      "text/plain": [
       "array(['setosa', 'versicolor', 'virginica'], dtype='<U10')"
      ]
     },
     "execution_count": 4,
     "metadata": {},
     "output_type": "execute_result"
    }
   ],
   "source": [
    "iris.target_names"
   ]
  },
  {
   "cell_type": "code",
   "execution_count": 5,
   "metadata": {},
   "outputs": [
    {
     "data": {
      "text/plain": [
       "array([5.1, 3.5, 1.4, 0.2])"
      ]
     },
     "execution_count": 5,
     "metadata": {},
     "output_type": "execute_result"
    }
   ],
   "source": [
    "iris.data[0]"
   ]
  },
  {
   "cell_type": "code",
   "execution_count": 6,
   "metadata": {},
   "outputs": [
    {
     "name": "stdout",
     "output_type": "stream",
     "text": [
      "['setosa' 'versicolor' 'virginica']\n"
     ]
    }
   ],
   "source": [
    "print(iris.target_names)"
   ]
  },
  {
   "cell_type": "code",
   "execution_count": 7,
   "metadata": {
    "collapsed": true
   },
   "outputs": [
    {
     "name": "stdout",
     "output_type": "stream",
     "text": [
      "features :[5.1 3.5 1.4 0.2]:0\n",
      "features :[4.9 3.  1.4 0.2]:0\n",
      "features :[4.7 3.2 1.3 0.2]:0\n",
      "features :[4.6 3.1 1.5 0.2]:0\n",
      "features :[5.  3.6 1.4 0.2]:0\n",
      "features :[5.4 3.9 1.7 0.4]:0\n",
      "features :[4.6 3.4 1.4 0.3]:0\n",
      "features :[5.  3.4 1.5 0.2]:0\n",
      "features :[4.4 2.9 1.4 0.2]:0\n",
      "features :[4.9 3.1 1.5 0.1]:0\n",
      "features :[5.4 3.7 1.5 0.2]:0\n",
      "features :[4.8 3.4 1.6 0.2]:0\n",
      "features :[4.8 3.  1.4 0.1]:0\n",
      "features :[4.3 3.  1.1 0.1]:0\n",
      "features :[5.8 4.  1.2 0.2]:0\n",
      "features :[5.7 4.4 1.5 0.4]:0\n",
      "features :[5.4 3.9 1.3 0.4]:0\n",
      "features :[5.1 3.5 1.4 0.3]:0\n",
      "features :[5.7 3.8 1.7 0.3]:0\n",
      "features :[5.1 3.8 1.5 0.3]:0\n",
      "features :[5.4 3.4 1.7 0.2]:0\n",
      "features :[5.1 3.7 1.5 0.4]:0\n",
      "features :[4.6 3.6 1.  0.2]:0\n",
      "features :[5.1 3.3 1.7 0.5]:0\n",
      "features :[4.8 3.4 1.9 0.2]:0\n",
      "features :[5.  3.  1.6 0.2]:0\n",
      "features :[5.  3.4 1.6 0.4]:0\n",
      "features :[5.2 3.5 1.5 0.2]:0\n",
      "features :[5.2 3.4 1.4 0.2]:0\n",
      "features :[4.7 3.2 1.6 0.2]:0\n",
      "features :[4.8 3.1 1.6 0.2]:0\n",
      "features :[5.4 3.4 1.5 0.4]:0\n",
      "features :[5.2 4.1 1.5 0.1]:0\n",
      "features :[5.5 4.2 1.4 0.2]:0\n",
      "features :[4.9 3.1 1.5 0.1]:0\n",
      "features :[5.  3.2 1.2 0.2]:0\n",
      "features :[5.5 3.5 1.3 0.2]:0\n",
      "features :[4.9 3.1 1.5 0.1]:0\n",
      "features :[4.4 3.  1.3 0.2]:0\n",
      "features :[5.1 3.4 1.5 0.2]:0\n",
      "features :[5.  3.5 1.3 0.3]:0\n",
      "features :[4.5 2.3 1.3 0.3]:0\n",
      "features :[4.4 3.2 1.3 0.2]:0\n",
      "features :[5.  3.5 1.6 0.6]:0\n",
      "features :[5.1 3.8 1.9 0.4]:0\n",
      "features :[4.8 3.  1.4 0.3]:0\n",
      "features :[5.1 3.8 1.6 0.2]:0\n",
      "features :[4.6 3.2 1.4 0.2]:0\n",
      "features :[5.3 3.7 1.5 0.2]:0\n",
      "features :[5.  3.3 1.4 0.2]:0\n",
      "features :[7.  3.2 4.7 1.4]:1\n",
      "features :[6.4 3.2 4.5 1.5]:1\n",
      "features :[6.9 3.1 4.9 1.5]:1\n",
      "features :[5.5 2.3 4.  1.3]:1\n",
      "features :[6.5 2.8 4.6 1.5]:1\n",
      "features :[5.7 2.8 4.5 1.3]:1\n",
      "features :[6.3 3.3 4.7 1.6]:1\n",
      "features :[4.9 2.4 3.3 1. ]:1\n",
      "features :[6.6 2.9 4.6 1.3]:1\n",
      "features :[5.2 2.7 3.9 1.4]:1\n",
      "features :[5.  2.  3.5 1. ]:1\n",
      "features :[5.9 3.  4.2 1.5]:1\n",
      "features :[6.  2.2 4.  1. ]:1\n",
      "features :[6.1 2.9 4.7 1.4]:1\n",
      "features :[5.6 2.9 3.6 1.3]:1\n",
      "features :[6.7 3.1 4.4 1.4]:1\n",
      "features :[5.6 3.  4.5 1.5]:1\n",
      "features :[5.8 2.7 4.1 1. ]:1\n",
      "features :[6.2 2.2 4.5 1.5]:1\n",
      "features :[5.6 2.5 3.9 1.1]:1\n",
      "features :[5.9 3.2 4.8 1.8]:1\n",
      "features :[6.1 2.8 4.  1.3]:1\n",
      "features :[6.3 2.5 4.9 1.5]:1\n",
      "features :[6.1 2.8 4.7 1.2]:1\n",
      "features :[6.4 2.9 4.3 1.3]:1\n",
      "features :[6.6 3.  4.4 1.4]:1\n",
      "features :[6.8 2.8 4.8 1.4]:1\n",
      "features :[6.7 3.  5.  1.7]:1\n",
      "features :[6.  2.9 4.5 1.5]:1\n",
      "features :[5.7 2.6 3.5 1. ]:1\n",
      "features :[5.5 2.4 3.8 1.1]:1\n",
      "features :[5.5 2.4 3.7 1. ]:1\n",
      "features :[5.8 2.7 3.9 1.2]:1\n",
      "features :[6.  2.7 5.1 1.6]:1\n",
      "features :[5.4 3.  4.5 1.5]:1\n",
      "features :[6.  3.4 4.5 1.6]:1\n",
      "features :[6.7 3.1 4.7 1.5]:1\n",
      "features :[6.3 2.3 4.4 1.3]:1\n",
      "features :[5.6 3.  4.1 1.3]:1\n",
      "features :[5.5 2.5 4.  1.3]:1\n",
      "features :[5.5 2.6 4.4 1.2]:1\n",
      "features :[6.1 3.  4.6 1.4]:1\n",
      "features :[5.8 2.6 4.  1.2]:1\n",
      "features :[5.  2.3 3.3 1. ]:1\n",
      "features :[5.6 2.7 4.2 1.3]:1\n",
      "features :[5.7 3.  4.2 1.2]:1\n",
      "features :[5.7 2.9 4.2 1.3]:1\n",
      "features :[6.2 2.9 4.3 1.3]:1\n",
      "features :[5.1 2.5 3.  1.1]:1\n",
      "features :[5.7 2.8 4.1 1.3]:1\n",
      "features :[6.3 3.3 6.  2.5]:2\n",
      "features :[5.8 2.7 5.1 1.9]:2\n",
      "features :[7.1 3.  5.9 2.1]:2\n",
      "features :[6.3 2.9 5.6 1.8]:2\n",
      "features :[6.5 3.  5.8 2.2]:2\n",
      "features :[7.6 3.  6.6 2.1]:2\n",
      "features :[4.9 2.5 4.5 1.7]:2\n",
      "features :[7.3 2.9 6.3 1.8]:2\n",
      "features :[6.7 2.5 5.8 1.8]:2\n",
      "features :[7.2 3.6 6.1 2.5]:2\n",
      "features :[6.5 3.2 5.1 2. ]:2\n",
      "features :[6.4 2.7 5.3 1.9]:2\n",
      "features :[6.8 3.  5.5 2.1]:2\n",
      "features :[5.7 2.5 5.  2. ]:2\n",
      "features :[5.8 2.8 5.1 2.4]:2\n",
      "features :[6.4 3.2 5.3 2.3]:2\n",
      "features :[6.5 3.  5.5 1.8]:2\n",
      "features :[7.7 3.8 6.7 2.2]:2\n",
      "features :[7.7 2.6 6.9 2.3]:2\n",
      "features :[6.  2.2 5.  1.5]:2\n",
      "features :[6.9 3.2 5.7 2.3]:2\n",
      "features :[5.6 2.8 4.9 2. ]:2\n",
      "features :[7.7 2.8 6.7 2. ]:2\n",
      "features :[6.3 2.7 4.9 1.8]:2\n",
      "features :[6.7 3.3 5.7 2.1]:2\n",
      "features :[7.2 3.2 6.  1.8]:2\n",
      "features :[6.2 2.8 4.8 1.8]:2\n",
      "features :[6.1 3.  4.9 1.8]:2\n",
      "features :[6.4 2.8 5.6 2.1]:2\n",
      "features :[7.2 3.  5.8 1.6]:2\n",
      "features :[7.4 2.8 6.1 1.9]:2\n",
      "features :[7.9 3.8 6.4 2. ]:2\n",
      "features :[6.4 2.8 5.6 2.2]:2\n",
      "features :[6.3 2.8 5.1 1.5]:2\n",
      "features :[6.1 2.6 5.6 1.4]:2\n",
      "features :[7.7 3.  6.1 2.3]:2\n",
      "features :[6.3 3.4 5.6 2.4]:2\n",
      "features :[6.4 3.1 5.5 1.8]:2\n",
      "features :[6.  3.  4.8 1.8]:2\n",
      "features :[6.9 3.1 5.4 2.1]:2\n",
      "features :[6.7 3.1 5.6 2.4]:2\n",
      "features :[6.9 3.1 5.1 2.3]:2\n",
      "features :[5.8 2.7 5.1 1.9]:2\n",
      "features :[6.8 3.2 5.9 2.3]:2\n",
      "features :[6.7 3.3 5.7 2.5]:2\n",
      "features :[6.7 3.  5.2 2.3]:2\n",
      "features :[6.3 2.5 5.  1.9]:2\n",
      "features :[6.5 3.  5.2 2. ]:2\n",
      "features :[6.2 3.4 5.4 2.3]:2\n",
      "features :[5.9 3.  5.1 1.8]:2\n"
     ]
    }
   ],
   "source": [
    "for i in range(len(iris.target)):\n",
    "    print(\"features :\" + str(iris.data[i]) + \":\" + str(iris.target[i]))"
   ]
  },
  {
   "cell_type": "code",
   "execution_count": 10,
   "metadata": {},
   "outputs": [],
   "source": [
    "import numpy as np"
   ]
  },
  {
   "cell_type": "code",
   "execution_count": 11,
   "metadata": {},
   "outputs": [],
   "source": [
    "train_idx = [0,50,100]\n",
    "\n",
    "#training data\n",
    "train_target = np.delete(iris.target, train_idx)\n",
    "\n",
    "train_feature = np.delete(iris.data, train_idx, axis=0)\n",
    "\n",
    "#test data\n",
    "test_target = iris.target[train_idx]\n",
    "test_feature = iris.data[train_idx]"
   ]
  },
  {
   "cell_type": "code",
   "execution_count": 45,
   "metadata": {},
   "outputs": [
    {
     "name": "stdout",
     "output_type": "stream",
     "text": [
      "Test Target: [0 1 2]\n",
      "Predict Target: [0 1 2]\n"
     ]
    }
   ],
   "source": [
    "# import the decision tree model, train and predict against test\n",
    "from sklearn import tree\n",
    "clf = tree.DecisionTreeClassifier()\n",
    "clf = clf.fit(X=train_feature, y=train_target)\n",
    "\n",
    "print(\"Test Target: \" + str(test_target))\n",
    "print(\"Predict Target: \" + str(clf.predict(test_feature)))"
   ]
  },
  {
   "cell_type": "code",
   "execution_count": 46,
   "metadata": {},
   "outputs": [],
   "source": [
    "#viz code\n",
    "\n",
    "from sklearn.externals.six import StringIO\n",
    "import pydot\n",
    "\n",
    "dot_data = StringIO()\n",
    "tree.export_graphviz(clf, out_file=dot_data, feature_names=iris.feature_names, class_names=iris.target_names)\n",
    "graph = graphviz.Source(dot_data)  \n",
    "#graph.write(\"iris.pdf\")"
   ]
  },
  {
   "cell_type": "code",
   "execution_count": 50,
   "metadata": {},
   "outputs": [],
   "source": [
    "#This code actually works\n",
    "#copy and paste output file - iris.txt -  into : http://webgraphviz.com/\n",
    "\n",
    "with open(\"iris.txt\", \"w\") as f:\n",
    "    f = tree.export_graphviz(clf, out_file=f)"
   ]
  },
  {
   "cell_type": "code",
   "execution_count": null,
   "metadata": {},
   "outputs": [],
   "source": []
  }
 ],
 "metadata": {
  "kernelspec": {
   "display_name": "Python 3",
   "language": "python",
   "name": "python3"
  },
  "language_info": {
   "codemirror_mode": {
    "name": "ipython",
    "version": 3
   },
   "file_extension": ".py",
   "mimetype": "text/x-python",
   "name": "python",
   "nbconvert_exporter": "python",
   "pygments_lexer": "ipython3",
   "version": "3.6.5"
  }
 },
 "nbformat": 4,
 "nbformat_minor": 2
}
